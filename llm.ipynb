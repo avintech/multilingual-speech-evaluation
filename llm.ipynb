{
 "cells": [
  {
   "cell_type": "code",
   "execution_count": 1,
   "metadata": {},
   "outputs": [],
   "source": [
    "from gpt4all import GPT4All\n",
    "model = GPT4All(\"mistral-7b-instruct-v0.1.Q4_0.gguf\")"
   ]
  },
  {
   "cell_type": "code",
   "execution_count": 7,
   "metadata": {},
   "outputs": [
    {
     "name": "stdout",
     "output_type": "stream",
     "text": [
      "?\n",
      "\n",
      "Who: நேற்று பூங்காवில், ஒரு இளம் தாய் தனது குழந்தைयుडன் புल्வெளியில் பிக்नிக் கொண்टாடிக் கொண்टிருந்தாर்\n",
      "What: ஏனெனில் वானிலை நல்லதாக இருந்தது.\n",
      "Where: தரையில், சுவைयான உணவை சாப்पिட்டனர்\n",
      "When\n"
     ]
    }
   ],
   "source": [
    "from gpt4all import GPT4All\n",
    "\n",
    "# Initialize the model\n",
    "model = GPT4All(\"mistral-7b-instruct-v0.1.Q4_0.gguf\")\n",
    "\n",
    "# Define the input sentence\n",
    "sentence = \"நேற்று பூங்காவில், ஒரு இளம் தாய் தனது குழந்தையுடன் புல்வெளியில் பிக்னிக் கொண்டாடிக் கொண்டிருந்தார், ஏனெனில் வானிலை நல்லதாக இருந்தது. அவர்கள் தரையில் பிக்னிக் சீட்டை விரித்து, சுவையான உணவை சாப்பிட்டனர்.\"\n",
    "\n",
    "# Generate 5W1H response\n",
    "prompt = (\n",
    "    sentence +\n",
    "    \"based on the text, identify what are the 5W1H in Tamil\"\n",
    ")\n",
    "\n",
    "# Generate response with specific parameters for consistency\n",
    "#temp=0 reduce randomness\n",
    "output = model.generate(prompt, temp=0)\n",
    "\n",
    "# Print the output\n",
    "print(output)\n"
   ]
  },
  {
   "cell_type": "markdown",
   "metadata": {},
   "source": [
    "evaluation for 5w1h"
   ]
  },
  {
   "cell_type": "code",
   "execution_count": 4,
   "metadata": {},
   "outputs": [
    {
     "name": "stdout",
     "output_type": "stream",
     "text": [
      "Skipping malformed line: .\n",
      "Skipping malformed line: \n",
      "Evaluation: {'Who': 1, 'What': 1, 'Where': 1, 'When': 1, 'Why': 1, 'How': 1}\n",
      "Total Score: 6\n"
     ]
    }
   ],
   "source": [
    "def parse_input(input_str):\n",
    "    # Split the input string into lines\n",
    "    lines = input_str.strip().split('\\n')\n",
    "    \n",
    "    # Create a dictionary from the lines\n",
    "    details = {}\n",
    "    for line in lines:\n",
    "        if ': ' in line:\n",
    "            key, value = line.split(': ', 1)  # Split only on the first occurrence of ': '\n",
    "            details[key] = value\n",
    "        else:\n",
    "            print(f\"Skipping malformed line: {line}\")\n",
    "    \n",
    "    return details\n",
    "\n",
    "def evaluate_details(details):\n",
    "    # Ensure details is a dictionary\n",
    "    if not isinstance(details, dict):\n",
    "        raise TypeError(\"Details should be a dictionary.\")\n",
    "    \n",
    "    # Assign 1 for known, 0 for unknown (\"不明\")\n",
    "    evaluation = {\n",
    "        \"Who\": 1 if details.get(\"Who\") not in [\"不明\", \"不知道\"] else 0,\n",
    "        \"What\": 1 if details.get(\"What\") not in [\"不明\", \"不知道\"] else 0,\n",
    "        \"Where\": 1 if details.get(\"Where\") not in [\"不明\", \"不知道\"] else 0,\n",
    "        \"When\": 1 if details.get(\"When\") not in [\"不明\", \"不知道\"] else 0,\n",
    "        \"Why\": 1 if details.get(\"Why\") not in [\"不明\", \"不知道\"] else 0,\n",
    "        \"How\": 1 if details.get(\"How\") not in [\"不明\", \"不知道\"] else 0\n",
    "    }\n",
    "    \n",
    "    # Calculate the total score\n",
    "    total_score = sum(evaluation.values())\n",
    "    \n",
    "    return evaluation, total_score\n",
    "\n",
    "# Provided input string\n",
    "input_str = output\n",
    "\n",
    "# Parse the input string into a dictionary\n",
    "details = parse_input(input_str)\n",
    "\n",
    "# Evaluate the parsed details\n",
    "evaluation, total_score = evaluate_details(details)\n",
    "\n",
    "print(f\"Evaluation: {evaluation}\")\n",
    "print(f\"Total Score: {total_score}\")"
   ]
  },
  {
   "cell_type": "code",
   "execution_count": null,
   "metadata": {},
   "outputs": [],
   "source": []
  }
 ],
 "metadata": {
  "kernelspec": {
   "display_name": "base",
   "language": "python",
   "name": "python3"
  },
  "language_info": {
   "codemirror_mode": {
    "name": "ipython",
    "version": 3
   },
   "file_extension": ".py",
   "mimetype": "text/x-python",
   "name": "python",
   "nbconvert_exporter": "python",
   "pygments_lexer": "ipython3",
   "version": "3.12.2"
  }
 },
 "nbformat": 4,
 "nbformat_minor": 2
}

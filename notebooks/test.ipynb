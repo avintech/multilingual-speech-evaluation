{
 "cells": [
  {
   "cell_type": "code",
   "execution_count": 1,
   "metadata": {},
   "outputs": [],
   "source": [
    "import pandas as pd"
   ]
  },
  {
   "cell_type": "code",
   "execution_count": 7,
   "metadata": {},
   "outputs": [
    {
     "data": {
      "text/plain": [
       "0     3\n",
       "1     3\n",
       "2     3\n",
       "3     3\n",
       "4     3\n",
       "5     3\n",
       "6     3\n",
       "7     3\n",
       "8     3\n",
       "9     3\n",
       "10    3\n",
       "11    3\n",
       "12    3\n",
       "13    3\n",
       "14    3\n",
       "15    3\n",
       "16    3\n",
       "17    3\n",
       "18    3\n",
       "19    3\n",
       "20    3\n",
       "21    3\n",
       "22    3\n",
       "23    3\n",
       "24    3\n",
       "25    3\n",
       "26    3\n",
       "27    3\n",
       "28    3\n",
       "29    3\n",
       "30    3\n",
       "31    3\n",
       "32    3\n",
       "33    3\n",
       "34    3\n",
       "35    3\n",
       "36    3\n",
       "37    3\n",
       "38    3\n",
       "39    3\n",
       "Name: fluency, dtype: int64"
      ]
     },
     "execution_count": 7,
     "metadata": {},
     "output_type": "execute_result"
    }
   ],
   "source": [
    "import pandas as pd\n",
    "from sklearn.ensemble import RandomForestClassifier\n",
    "from sklearn.model_selection import GridSearchCV,train_test_split\n",
    "import xgboost as xgb\n",
    "from joblib import dump\n",
    "\n",
    "df = pd.read_pickle(\"../data/pickles/preprocessing_mapped_data.pkl\")\n",
    "\n",
    "#Load data\n",
    "X = df[['speech_rate','pause_rate','pronunciation_accuracy']]  # features\n",
    "y = df['fluency']  # target variable\n",
    "\n",
    "X_train, X_test, y_train, y_test = train_test_split(X, y, test_size=0.2, random_state=42)\n",
    "\n",
    "#XGBoost\n",
    "try:\n",
    "    xgb_clf = xgb.XGBClassifier(objective='multi:softprob', num_class=4, seed=42)\n",
    "    param_grid = {\n",
    "        'n_estimators': [100, 200, 300],\n",
    "        'learning_rate': [0.01, 0.1, 0.2, 0.0001],\n",
    "        'max_depth': [4, 6, 8],\n",
    "        'colsample_bytree': [0.3, 0.7, 1.0],\n",
    "        'subsample': [0.6, 0.8, 1.0]\n",
    "    }\n",
    "\n",
    "    xg_grid_search = GridSearchCV(estimator=xgb_clf, param_grid=param_grid, cv=3, scoring='accuracy', verbose=2, n_jobs=-1)\n",
    "    xg_grid_search.fit(X_train, y_train)\n",
    "    xg_grid_search_model = xg_grid_search.best_estimator_\n",
    "    dump(xg_grid_search_model, 'models/xgboost_model.joblib')\n",
    "    print(\"XGBoost Model Saved\")\n",
    "except Exception as ex:\n",
    "    print(ex)\n",
    "\n",
    "#Random Forest Classifier\n",
    "try:\n",
    "    rf = RandomForestClassifier(n_estimators=50, oob_score=True, random_state=0)\n",
    "    param_grid = {\n",
    "        'n_estimators': [100, 200, 300],\n",
    "        'learning_rate': [0.01, 0.1, 0.2, 0.0001],\n",
    "        'max_depth': [4, 6, 8],\n",
    "        'colsample_bytree': [0.3, 0.7, 1.0],\n",
    "        'subsample': [0.6, 0.8, 1.0]\n",
    "    }\n",
    "\n",
    "    rf_grid_search = GridSearchCV(estimator=rf, param_grid=param_grid, cv=3, scoring='accuracy', verbose=2, n_jobs=-1)\n",
    "    rf_grid_search.fit(X_train, y_train)\n",
    "    rf_grid_search = rf_grid_search.best_estimator_\n",
    "    dump(rf_grid_search, 'models/random_forest_model.joblib')\n",
    "    print(\"Random Forest Model Saved\")\n",
    "except Exception as ex:\n",
    "    print(ex)"
   ]
  }
 ],
 "metadata": {
  "kernelspec": {
   "display_name": "tensor",
   "language": "python",
   "name": "python3"
  },
  "language_info": {
   "codemirror_mode": {
    "name": "ipython",
    "version": 3
   },
   "file_extension": ".py",
   "mimetype": "text/x-python",
   "name": "python",
   "nbconvert_exporter": "python",
   "pygments_lexer": "ipython3",
   "version": "3.12.2"
  }
 },
 "nbformat": 4,
 "nbformat_minor": 2
}

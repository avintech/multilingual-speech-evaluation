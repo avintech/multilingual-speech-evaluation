{
 "cells": [
  {
   "cell_type": "code",
   "execution_count": 1,
   "metadata": {},
   "outputs": [
    {
     "name": "stdout",
     "output_type": "stream",
     "text": [
      "Importing the dtw module. When using in academic works please cite:\n",
      "  T. Giorgino. Computing and Visualizing Dynamic Time Warping Alignments in R: The dtw Package.\n",
      "  J. Stat. Soft., doi:10.18637/jss.v031.i07.\n",
      "\n"
     ]
    }
   ],
   "source": [
    "import sys, os\n",
    "import joblib\n",
    "from modules.prepare_data import load_audio\n",
    "import pandas as pd\n",
    "from sklearn.preprocessing import MinMaxScaler\n",
    "from datasets import load_dataset, DatasetDict, concatenate_datasets\n",
    "import os"
   ]
  },
  {
   "cell_type": "code",
   "execution_count": 5,
   "metadata": {},
   "outputs": [
    {
     "name": "stdout",
     "output_type": "stream",
     "text": [
      "(1, 13, 100)\n"
     ]
    }
   ],
   "source": [
    "import pandas as pd\n",
    "\n",
    "file = \"data/pickles/preprocessed_data_tamil.pkl\"\n",
    "df = pd.read_pickle(file)\n",
    "print(df.iloc[0]['mfcc'].shape)"
   ]
  },
  {
   "cell_type": "code",
   "execution_count": 2,
   "metadata": {},
   "outputs": [
    {
     "name": "stderr",
     "output_type": "stream",
     "text": [
      "/home/avintech/miniconda3/lib/python3.12/site-packages/datasets/load.py:2547: FutureWarning: 'use_auth_token' was deprecated in favor of 'token' in version 2.14.0 and will be removed in 3.0.0.\n",
      "You can remove this warning by passing 'token=<use_auth_token>' instead.\n",
      "  warnings.warn(\n"
     ]
    },
    {
     "name": "stdout",
     "output_type": "stream",
     "text": [
      "                                      file_names  \\\n",
      "0    22441cc8-1677-9261-b609-a18b2e19d41b_24.wav   \n",
      "1     0f35daad-8c08-1764-71f4-70f13a8752d2_1.wav   \n",
      "2     3035f394-1a19-86ef-d3fa-a1a9f16fad8d_9.wav   \n",
      "3     803d5582-04f0-998b-b9f1-1f02e14c8a31_7.wav   \n",
      "4    6f645fa9-edb9-b505-3b87-57a136ed52fa_23.wav   \n",
      "..                                           ...   \n",
      "637  84fb4e5a-10cc-0f91-f19b-270457ad8928_16.wav   \n",
      "638  22441cc8-1677-9261-b609-a18b2e19d41b_12.wav   \n",
      "639   6c377cce-c8d7-cff1-0414-aa58fb44dd50_5.wav   \n",
      "640   baade83d-df17-2a1b-e825-ed586e745bb6_6.wav   \n",
      "641  1c0c9e3a-6c43-aa15-bb52-c9d605fd5359_12.wav   \n",
      "\n",
      "                                       original_script  \\\n",
      "0    பிரியாவுக்கு உதவி செய்ததில் நான் பெருமிதம் கொள...   \n",
      "1               அந்த மரக்கிளையில் ஒரு கூடு இருக்கிறது.   \n",
      "2                             குளத்தைச் சுற்றி நின்று,   \n",
      "3                    ஒரு வாத்து நீந்திக்கொண்டிருந்தது.   \n",
      "4    நண்பர்களுக்கு உதவி தேவைப்பட்டால் உடனே உதவ வேண்...   \n",
      "..                                                 ...   \n",
      "637                         என் தோழி பிரியா அழுகிறாள்.   \n",
      "638                                   எனக்கு ஏழு வயது.   \n",
      "639           அந்தத் தவளையும் பறவையும் ஏதோ பேசுகின்றன.   \n",
      "640               பூங்காவின் ஓரத்தில் இருந்த குளத்தில்   \n",
      "641                                   எனக்கு ஏழு வயது.   \n",
      "\n",
      "                                           spoken_text  fluency  \\\n",
      "0    பிரிச பிரியாவுக்கு உதவி செய்தால் பேருமிதம் கொள...      2.0   \n",
      "1                              <UNC> ஒரு கூடு இருந்து       3.0   \n",
      "2                              குளத்தில் சிறிய நின்று       4.0   \n",
      "3                                   ஒரு வாத்து நீந்த்       4.0   \n",
      "4    நண்பர்குல நண்பர்குலகளக்கு தேவைப்பட்டால் உடநை உ...      1.0   \n",
      "..                                                 ...      ...   \n",
      "637        என் தோழி என் தோழி என் தோழி பாரியா அழுகிறது       3.0   \n",
      "638                          என்னக்கு எரு வா எரு வாயதெ      3.0   \n",
      "639                   தவலேயும் பறவேயும் ஏதோ பேசுகின்றன      3.0   \n",
      "640                 பூங்காவின் ஓரத்தில் இந்த குளத்தில்      4.0   \n",
      "641                                   எனக்கு ஏழு வயது       4.0   \n",
      "\n",
      "                                            audio_path  \n",
      "0    {'path': '22441cc8-1677-9261-b609-a18b2e19d41b...  \n",
      "1    {'path': '0f35daad-8c08-1764-71f4-70f13a8752d2...  \n",
      "2    {'path': '3035f394-1a19-86ef-d3fa-a1a9f16fad8d...  \n",
      "3    {'path': '803d5582-04f0-998b-b9f1-1f02e14c8a31...  \n",
      "4    {'path': '6f645fa9-edb9-b505-3b87-57a136ed52fa...  \n",
      "..                                                 ...  \n",
      "637  {'path': '84fb4e5a-10cc-0f91-f19b-270457ad8928...  \n",
      "638  {'path': '22441cc8-1677-9261-b609-a18b2e19d41b...  \n",
      "639  {'path': '6c377cce-c8d7-cff1-0414-aa58fb44dd50...  \n",
      "640  {'path': 'baade83d-df17-2a1b-e825-ed586e745bb6...  \n",
      "641  {'path': '1c0c9e3a-6c43-aa15-bb52-c9d605fd5359...  \n",
      "\n",
      "[642 rows x 5 columns]\n",
      "processing audio......\n"
     ]
    },
    {
     "name": "stderr",
     "output_type": "stream",
     "text": [
      "/home/avintech/miniconda3/lib/python3.12/site-packages/whisper/transcribe.py:113: UserWarning: Performing inference on CPU when CUDA is available\n",
      "  warnings.warn(\"Performing inference on CPU when CUDA is available\")\n",
      "100%|██████████| 3000/3000 [00:04<00:00, 679.08frames/s]\n"
     ]
    },
    {
     "name": "stdout",
     "output_type": "stream",
     "text": [
      "['பிரிச', 'பிரியாவுக்கு', 'உதவி', 'செய்தால்', 'பேருமிதம்', 'கொள்க்ரேன்']\n",
      "processing audio completed!\n",
      "file_names                      22441cc8-1677-9261-b609-a18b2e19d41b_24.wav\n",
      "original_script           பிரியாவுக்கு உதவி செய்ததில் நான் பெருமிதம் கொள...\n",
      "spoken_text               பிரிச பிரியாவுக்கு உதவி செய்தால் பேருமிதம் கொள...\n",
      "fluency                                                                 2.0\n",
      "audio_path                {'path': '22441cc8-1677-9261-b609-a18b2e19d41b...\n",
      "pronunciation_accuracy                                                 80.0\n",
      "speech_rate                                                        0.274977\n",
      "pause_rate                                                         8.065995\n",
      "mfcc                      [-3.449877598869938, -3.3413096986678696, -2.9...\n",
      "Name: 0, dtype: object\n",
      "--------------------\n",
      "processing audio......\n"
     ]
    },
    {
     "name": "stderr",
     "output_type": "stream",
     "text": [
      "/home/avintech/miniconda3/lib/python3.12/site-packages/whisper/transcribe.py:113: UserWarning: Performing inference on CPU when CUDA is available\n",
      "  warnings.warn(\"Performing inference on CPU when CUDA is available\")\n",
      "100%|██████████| 3000/3000 [00:03<00:00, 950.62frames/s]\n"
     ]
    },
    {
     "name": "stdout",
     "output_type": "stream",
     "text": [
      "['அந்து', 'ஒரு', 'கூடு', 'இருந்து']\n",
      "processing audio completed!\n",
      "<class 'ValueError'> 2525761920.py 19\n",
      "file_names                       0f35daad-8c08-1764-71f4-70f13a8752d2_1.wav\n",
      "original_script                      அந்த மரக்கிளையில் ஒரு கூடு இருக்கிறது.\n",
      "spoken_text                                         <UNC> ஒரு கூடு இருந்து \n",
      "fluency                                                                 3.0\n",
      "audio_path                {'path': '0f35daad-8c08-1764-71f4-70f13a8752d2...\n",
      "pronunciation_accuracy                                                 50.0\n",
      "speech_rate                                                        0.207039\n",
      "pause_rate                                                        57.453416\n",
      "mfcc                      [0.5034692672902426, 0.8763897865483332, 0.997...\n",
      "Name: 1, dtype: object\n",
      "--------------------\n",
      "processing audio......\n"
     ]
    },
    {
     "name": "stderr",
     "output_type": "stream",
     "text": [
      "/home/avintech/miniconda3/lib/python3.12/site-packages/whisper/transcribe.py:113: UserWarning: Performing inference on CPU when CUDA is available\n",
      "  warnings.warn(\"Performing inference on CPU when CUDA is available\")\n",
      "100%|██████████| 3000/3000 [00:03<00:00, 956.57frames/s]\n"
     ]
    },
    {
     "name": "stdout",
     "output_type": "stream",
     "text": [
      "['குளத்தில்', 'சிறிய', 'நின்று']\n",
      "processing audio completed!\n",
      "<class 'ValueError'> 2525761920.py 19\n",
      "file_names                       3035f394-1a19-86ef-d3fa-a1a9f16fad8d_9.wav\n",
      "original_script                                    குளத்தைச் சுற்றி நின்று,\n",
      "spoken_text                                         குளத்தில் சிறிய நின்று \n",
      "fluency                                                                 4.0\n",
      "audio_path                {'path': '3035f394-1a19-86ef-d3fa-a1a9f16fad8d...\n",
      "pronunciation_accuracy                                                 65.0\n",
      "speech_rate                                                         0.25641\n",
      "pause_rate                                                              0.0\n",
      "mfcc                      [0.4409861321555215, 0.5921123207778609, 0.807...\n",
      "Name: 2, dtype: object\n",
      "--------------------\n",
      "processing audio......\n"
     ]
    },
    {
     "name": "stderr",
     "output_type": "stream",
     "text": [
      "/home/avintech/miniconda3/lib/python3.12/site-packages/whisper/transcribe.py:113: UserWarning: Performing inference on CPU when CUDA is available\n",
      "  warnings.warn(\"Performing inference on CPU when CUDA is available\")\n",
      "100%|██████████| 3000/3000 [00:02<00:00, 1015.10frames/s]\n"
     ]
    },
    {
     "name": "stdout",
     "output_type": "stream",
     "text": [
      "['ஒரு', 'வாத்து', 'நீந்த்']\n",
      "processing audio completed!\n",
      "<class 'ValueError'> 2525761920.py 19\n",
      "file_names                       803d5582-04f0-998b-b9f1-1f02e14c8a31_7.wav\n",
      "original_script                           ஒரு வாத்து நீந்திக்கொண்டிருந்தது.\n",
      "spoken_text                                              ஒரு வாத்து நீந்த் \n",
      "fluency                                                                 4.0\n",
      "audio_path                {'path': '803d5582-04f0-998b-b9f1-1f02e14c8a31...\n",
      "pronunciation_accuracy                                                 53.0\n",
      "speech_rate                                                        0.491803\n",
      "pause_rate                                                         6.885246\n",
      "mfcc                      [0.3685285286652867, 0.6683129900918443, 1.422...\n",
      "Name: 3, dtype: object\n",
      "--------------------\n",
      "processing audio......\n"
     ]
    },
    {
     "name": "stderr",
     "output_type": "stream",
     "text": [
      "/home/avintech/miniconda3/lib/python3.12/site-packages/whisper/transcribe.py:113: UserWarning: Performing inference on CPU when CUDA is available\n",
      "  warnings.warn(\"Performing inference on CPU when CUDA is available\")\n",
      "100%|██████████| 3000/3000 [00:18<00:00, 158.18frames/s]\n"
     ]
    },
    {
     "name": "stdout",
     "output_type": "stream",
     "text": [
      "['நண்பர்குல', 'நண்பர்குலகளக்கு', 'தேவைப்பட்டால்', 'உடநை', 'உடவி', 'உடவ', 'வேண்டும்', 'என்று', 'என்', 'பெற்றே', 'பெற்றோர்கள்', 'என்னுட', 'என்னிடம்', 'கூறி', 'கூறியிருக்கிறார்கள்என்னால்', 'உடவ', 'வேண்டும்', 'என்னிடம்', 'கூறியிருக்கிறார்கள்', 'என்னிடம்', 'கூறியிருக்கிறார்கள்', 'என்னிடம்', 'கூறியிருகிறார்கள்', 'என்னிடம்', 'கூறியிருகிறார்கள்']\n",
      "processing audio completed!\n",
      "<class 'ValueError'> 2525761920.py 19\n",
      "file_names                      6f645fa9-edb9-b505-3b87-57a136ed52fa_23.wav\n",
      "original_script           நண்பர்களுக்கு உதவி தேவைப்பட்டால் உடனே உதவ வேண்...\n",
      "spoken_text               நண்பர்குல நண்பர்குலகளக்கு தேவைப்பட்டால் உடநை உ...\n",
      "fluency                                                                 1.0\n",
      "audio_path                {'path': '6f645fa9-edb9-b505-3b87-57a136ed52fa...\n",
      "pronunciation_accuracy                                                 83.0\n",
      "speech_rate                                                        0.873656\n",
      "pause_rate                                                        15.658602\n",
      "mfcc                      [0.3071987847761701, 0.13184577709082787, -0.5...\n",
      "Name: 4, dtype: object\n",
      "--------------------\n",
      "processing audio......\n"
     ]
    },
    {
     "name": "stderr",
     "output_type": "stream",
     "text": [
      "/home/avintech/miniconda3/lib/python3.12/site-packages/whisper/transcribe.py:113: UserWarning: Performing inference on CPU when CUDA is available\n",
      "  warnings.warn(\"Performing inference on CPU when CUDA is available\")\n",
      "100%|██████████| 3000/3000 [00:04<00:00, 662.39frames/s]\n"
     ]
    },
    {
     "name": "stdout",
     "output_type": "stream",
     "text": [
      "['ஒவத்தூ', 'பதல்', 'வத்தூ', 'பதல்', 'பாடூ', 'பாடூகிறேல்', 'பாடியிருக்கள்']\n",
      "processing audio completed!\n",
      "<class 'ValueError'> 2525761920.py 19\n",
      "file_names                      07668268-54d7-590d-ba21-7fcf887fd7a9_18.wav\n",
      "original_script                                   நான் அவளிடம் பரிவுகொண்டு.\n",
      "spoken_text               ஒவத்தூ பதல் வத்தூ பதல் பாடூ பாடூகி <UNC(GIBERR...\n",
      "fluency                                                                 1.0\n",
      "audio_path                {'path': '07668268-54d7-590d-ba21-7fcf887fd7a9...\n",
      "pronunciation_accuracy                                                 17.0\n",
      "speech_rate                                                        0.340467\n",
      "pause_rate                                                        21.303502\n",
      "mfcc                      [0.2633419108557383, -0.013250454589784529, -0...\n",
      "Name: 5, dtype: object\n",
      "--------------------\n",
      "processing audio......\n"
     ]
    },
    {
     "name": "stderr",
     "output_type": "stream",
     "text": [
      "/home/avintech/miniconda3/lib/python3.12/site-packages/whisper/transcribe.py:113: UserWarning: Performing inference on CPU when CUDA is available\n",
      "  warnings.warn(\"Performing inference on CPU when CUDA is available\")\n",
      "100%|██████████| 3000/3000 [00:02<00:00, 1199.27frames/s]\n"
     ]
    },
    {
     "name": "stdout",
     "output_type": "stream",
     "text": [
      "['எனக்கு', 'ஏழு', 'வயது']\n",
      "processing audio completed!\n",
      "<class 'ValueError'> 2525761920.py 19\n",
      "file_names                      ce09d4af-cd1b-5abd-ea3f-a6ce105ec86c_12.wav\n",
      "original_script                                            எனக்கு ஏழு வயது.\n",
      "spoken_text                                                எனக்கு ஏழு வயது \n",
      "fluency                                                                 4.0\n",
      "audio_path                {'path': 'ce09d4af-cd1b-5abd-ea3f-a6ce105ec86c...\n",
      "pronunciation_accuracy                                                100.0\n",
      "speech_rate                                                        0.688073\n",
      "pause_rate                                                              0.0\n",
      "mfcc                      [0.2354307088081495, 0.19882636409101254, -0.0...\n",
      "Name: 6, dtype: object\n",
      "--------------------\n",
      "processing audio......\n"
     ]
    },
    {
     "name": "stderr",
     "output_type": "stream",
     "text": [
      "/home/avintech/miniconda3/lib/python3.12/site-packages/whisper/transcribe.py:113: UserWarning: Performing inference on CPU when CUDA is available\n",
      "  warnings.warn(\"Performing inference on CPU when CUDA is available\")\n",
      "100%|██████████| 3000/3000 [00:04<00:00, 665.92frames/s]\n"
     ]
    },
    {
     "name": "stdout",
     "output_type": "stream",
     "text": [
      "['நான்', 'ரியா', 'தொடக்கப்பள்ளியில்', 'தொடக்கநிலை', 'ஒன்று', 'மாணவர்']\n",
      "processing audio completed!\n",
      "<class 'ValueError'> 2525761920.py 19\n",
      "file_names                      6c377cce-c8d7-cff1-0414-aa58fb44dd50_13.wav\n",
      "original_script           நான் ரியா தொடக்கப் பள்ளியில் தொடக்கநிலை ஒன்று ...\n",
      "spoken_text               நான் ரியா தொடக்கப்பள்ளியில் தொடக்கநிலை ஒன்று ம...\n",
      "fluency                                                                 4.0\n",
      "audio_path                {'path': '6c377cce-c8d7-cff1-0414-aa58fb44dd50...\n",
      "pronunciation_accuracy                                                 66.0\n",
      "speech_rate                                                        0.558659\n",
      "pause_rate                                                              0.0\n",
      "mfcc                      [0.22139545646870115, -0.026860878064628228, -...\n",
      "Name: 7, dtype: object\n",
      "--------------------\n",
      "processing audio......\n"
     ]
    },
    {
     "name": "stderr",
     "output_type": "stream",
     "text": [
      "/home/avintech/miniconda3/lib/python3.12/site-packages/whisper/transcribe.py:113: UserWarning: Performing inference on CPU when CUDA is available\n",
      "  warnings.warn(\"Performing inference on CPU when CUDA is available\")\n",
      "100%|██████████| 3000/3000 [00:04<00:00, 712.55frames/s]\n"
     ]
    },
    {
     "name": "stdout",
     "output_type": "stream",
     "text": [
      "['வுக்கு', 'உதவி', 'செய்தில்', 'நான்', 'பெரிமிதம்', 'கொள்கிறேன்']\n",
      "processing audio completed!\n",
      "<class 'ValueError'> 2525761920.py 19\n",
      "file_names                      baade83d-df17-2a1b-e825-ed586e745bb6_24.wav\n",
      "original_script           பிரியாவுக்கு உதவி செய்ததில் நான் பெருமிதம் கொள...\n",
      "spoken_text                  வுக்கு உதவி செய்தில் நான் பெரிமிதம் கொள்கிறேன்\n",
      "fluency                                                                 3.0\n",
      "audio_path                {'path': 'baade83d-df17-2a1b-e825-ed586e745bb6...\n",
      "pronunciation_accuracy                                                 80.0\n",
      "speech_rate                                                        0.527241\n",
      "pause_rate                                                              0.0\n",
      "mfcc                      [0.21771029593003127, 0.05101957491442501, -0....\n",
      "Name: 8, dtype: object\n",
      "--------------------\n",
      "processing audio......\n"
     ]
    },
    {
     "name": "stderr",
     "output_type": "stream",
     "text": [
      "/home/avintech/miniconda3/lib/python3.12/site-packages/whisper/transcribe.py:113: UserWarning: Performing inference on CPU when CUDA is available\n",
      "  warnings.warn(\"Performing inference on CPU when CUDA is available\")\n",
      "100%|██████████| 3000/3000 [00:02<00:00, 1101.61frames/s]\n"
     ]
    },
    {
     "name": "stdout",
     "output_type": "stream",
     "text": [
      "['என்', 'பெயர்', 'தமிழ்', 'அரசன்']\n",
      "processing audio completed!\n",
      "<class 'ValueError'> 2525761920.py 19\n",
      "file_names                      baade83d-df17-2a1b-e825-ed586e745bb6_11.wav\n",
      "original_script                                         என் பெயர் தமிழரசன்.\n",
      "spoken_text                                          என் பெயர் தமிழ் அரசன் \n",
      "fluency                                                                 4.0\n",
      "audio_path                {'path': 'baade83d-df17-2a1b-e825-ed586e745bb6...\n",
      "pronunciation_accuracy                                                 62.0\n",
      "speech_rate                                                        0.947867\n",
      "pause_rate                                                         9.478673\n",
      "mfcc                      [0.21790613757892485, 0.3051067491434216, 0.50...\n",
      "Name: 9, dtype: object\n",
      "--------------------\n",
      "processing audio......\n"
     ]
    },
    {
     "name": "stderr",
     "output_type": "stream",
     "text": [
      "/home/avintech/miniconda3/lib/python3.12/site-packages/whisper/transcribe.py:113: UserWarning: Performing inference on CPU when CUDA is available\n",
      "  warnings.warn(\"Performing inference on CPU when CUDA is available\")\n",
      "100%|██████████| 3000/3000 [00:03<00:00, 845.30frames/s]\n"
     ]
    },
    {
     "name": "stdout",
     "output_type": "stream",
     "text": [
      "['குலக்கரையில்', 'ஒரு', 'பெரிய', 'மரம்', 'இருக்கிறது']\n",
      "processing audio completed!\n",
      "<class 'ValueError'> 2525761920.py 19\n",
      "file_names                       561eab00-32ee-59b2-954c-86c1adf02b50_0.wav\n",
      "original_script                     குளக்கரையில் ஒரு பெரிய மரம் இருக்கிறது.\n",
      "spoken_text                         குலக்கரையில் ஒரு பெரிய மரம் இருக்கிறது \n",
      "fluency                                                                 4.0\n",
      "audio_path                {'path': '561eab00-32ee-59b2-954c-86c1adf02b50...\n",
      "pronunciation_accuracy                                                 97.0\n",
      "speech_rate                                                         0.93985\n",
      "pause_rate                                                              0.0\n",
      "mfcc                      [0.2179540360972096, 0.1356372693834628, -0.14...\n",
      "Name: 10, dtype: object\n",
      "--------------------\n",
      "processing audio......\n"
     ]
    },
    {
     "name": "stderr",
     "output_type": "stream",
     "text": [
      "/home/avintech/miniconda3/lib/python3.12/site-packages/whisper/transcribe.py:113: UserWarning: Performing inference on CPU when CUDA is available\n",
      "  warnings.warn(\"Performing inference on CPU when CUDA is available\")\n",
      "100%|██████████| 3000/3000 [00:02<00:00, 1395.48frames/s]\n"
     ]
    },
    {
     "name": "stdout",
     "output_type": "stream",
     "text": [
      "['ஏலு', 'வயடு']\n",
      "processing audio completed!\n",
      "<class 'ValueError'> 2525761920.py 19\n",
      "file_names                      b2b1e5dd-8275-9d01-5a87-7ac6b9500c67_12.wav\n",
      "original_script                                            எனக்கு ஏழு வயது.\n",
      "spoken_text                                                       ஏலு வயடு \n",
      "fluency                                                                 4.0\n",
      "audio_path                {'path': 'b2b1e5dd-8275-9d01-5a87-7ac6b9500c67...\n",
      "pronunciation_accuracy                                                 47.0\n",
      "speech_rate                                                        1.086957\n",
      "pause_rate                                                              0.0\n",
      "mfcc                      [0.2214716105077619, 0.14276804340955634, 0.07...\n",
      "Name: 11, dtype: object\n",
      "--------------------\n",
      "processing audio......\n"
     ]
    },
    {
     "name": "stderr",
     "output_type": "stream",
     "text": [
      "/home/avintech/miniconda3/lib/python3.12/site-packages/whisper/transcribe.py:113: UserWarning: Performing inference on CPU when CUDA is available\n",
      "  warnings.warn(\"Performing inference on CPU when CUDA is available\")\n",
      "100%|██████████| 3000/3000 [00:05<00:00, 566.50frames/s]\n"
     ]
    },
    {
     "name": "stdout",
     "output_type": "stream",
     "text": [
      "['அந்து', 'மரக்கி', 'மரக்கிளையில்', 'மராகிய', 'மரக்கிளையில்', 'ஒரு', 'சூது', 'சூது', 'இரன்கிறது']\n",
      "processing audio completed!\n",
      "<class 'ValueError'> 2525761920.py 19\n",
      "file_names                       5782e2b0-f197-18cf-61cf-0008954b5741_1.wav\n",
      "original_script                      அந்த மரக்கிளையில் ஒரு கூடு இருக்கிறது.\n",
      "spoken_text               அந்து மரக்கி மரக்கிளையில் மராகிய மரக்கிளையில் ...\n",
      "fluency                                                                 2.0\n",
      "audio_path                {'path': '5782e2b0-f197-18cf-61cf-0008954b5741...\n",
      "pronunciation_accuracy                                                 79.0\n",
      "speech_rate                                                        0.409463\n",
      "pause_rate                                                        20.746133\n",
      "mfcc                      [0.23448472973620033, 0.27940215587153816, 0.2...\n",
      "Name: 12, dtype: object\n",
      "--------------------\n",
      "processing audio......\n"
     ]
    },
    {
     "name": "stderr",
     "output_type": "stream",
     "text": [
      "/home/avintech/miniconda3/lib/python3.12/site-packages/whisper/transcribe.py:113: UserWarning: Performing inference on CPU when CUDA is available\n",
      "  warnings.warn(\"Performing inference on CPU when CUDA is available\")\n",
      "100%|██████████| 3000/3000 [00:03<00:00, 904.33frames/s]\n"
     ]
    },
    {
     "name": "stdout",
     "output_type": "stream",
     "text": [
      "['ஓ', 'ஓ', 'வாத்தி', 'படலை', 'படு', 'படுகிறார்கள்']\n",
      "processing audio completed!\n",
      "<class 'IndexError'> 2525761920.py 19\n",
      "<class 'IndexError'> 2525761920.py 29\n"
     ]
    }
   ],
   "source": [
    "try:\n",
    "    dataset_path = \"avintech/tamil_children_speech\"\n",
    "    whisper_lang = \"ta\"\n",
    "            \n",
    "    common_voice = load_dataset(dataset_path, split=\"train\", use_auth_token=True)\n",
    "    df = pd.DataFrame(common_voice)\n",
    "    print(df)\n",
    "    \n",
    "    #Do for training data\n",
    "    for index, row in df.iterrows():\n",
    "        try:\n",
    "            print(\"processing audio......\")\n",
    "            data = load_audio(whisper_lang,df.at[index, 'original_script'],common_voice[index]['audio_path'])\n",
    "            print(\"processing audio completed!\")\n",
    "            df.at[index,'pronunciation_accuracy'] = data['pronunciation_accuracy']\n",
    "            df.at[index,'speech_rate'] = data['speech_rate']\n",
    "            df.at[index,'pause_rate'] = data['pause_rate']\n",
    "            df.at[index,'mfcc'] = data['mfcc']\n",
    "            #df.at[index,'mean_pitch'] = data['mean_pitch']\n",
    "            #df.at[index,'pitch_range'] = data['pitch_range']\n",
    "            #df.at[index,'std_pitch'] = data['std_pitch']\n",
    "        \n",
    "        except Exception as ex:\n",
    "            exc_type, exc_obj, exc_tb = sys.exc_info()\n",
    "            fname = os.path.split(exc_tb.tb_frame.f_code.co_filename)[1]\n",
    "            print(exc_type, fname, exc_tb.tb_lineno)\n",
    "        finally:\n",
    "            print(df.iloc[index])\n",
    "            print(\"-\" * 20)\n",
    "\n",
    "except Exception as e:\n",
    "    exc_type, exc_obj, exc_tb = sys.exc_info()\n",
    "    fname = os.path.split(exc_tb.tb_frame.f_code.co_filename)[1]\n",
    "    print(exc_type, fname, exc_tb.tb_lineno)"
   ]
  }
 ],
 "metadata": {
  "kernelspec": {
   "display_name": "tensor",
   "language": "python",
   "name": "python3"
  },
  "language_info": {
   "codemirror_mode": {
    "name": "ipython",
    "version": 3
   },
   "file_extension": ".py",
   "mimetype": "text/x-python",
   "name": "python",
   "nbconvert_exporter": "python",
   "pygments_lexer": "ipython3",
   "version": "3.12.2"
  }
 },
 "nbformat": 4,
 "nbformat_minor": 2
}
